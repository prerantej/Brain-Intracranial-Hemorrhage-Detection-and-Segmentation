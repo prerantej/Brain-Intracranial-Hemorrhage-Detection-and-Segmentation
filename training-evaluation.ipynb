{
 "cells": [
  {
   "cell_type": "markdown",
   "id": "bd4f69f7-1b0f-4adc-9481-4b5efb310e72",
   "metadata": {},
   "source": [
    "# Brain Intracranial Hemorrhage Detection and Segmentation"
   ]
  },
  {
   "cell_type": "markdown",
   "id": "df875f0a-1af5-4439-9402-06f9b8339cfd",
   "metadata": {},
   "source": [
    "## Importing necessary libraries"
   ]
  },
  {
   "cell_type": "code",
   "execution_count": 37,
   "id": "20c841a5",
   "metadata": {
    "papermill": {
     "duration": 16.088366,
     "end_time": "2023-11-25T05:51:59.097869",
     "exception": false,
     "start_time": "2023-11-25T05:51:43.009503",
     "status": "completed"
    },
    "tags": []
   },
   "outputs": [],
   "source": [
    "import os\n",
    "import math\n",
    "import cv2\n",
    "from glob import glob\n",
    "import matplotlib.pyplot as plt\n",
    "import matplotlib.image as mpimg\n",
    "import numpy as np\n",
    "from sklearn.utils import shuffle\n",
    "import tensorflow as tf\n",
    "from tensorflow import keras\n",
    "from tensorflow.keras import layers\n",
    "from keras.models import Sequential \n",
    "from keras.layers import Activation, Dense, Flatten\n",
    "from sklearn.model_selection import train_test_split"
   ]
  },
  {
   "cell_type": "markdown",
   "id": "618fb958-fee3-4d05-8af9-ba4f94daa891",
   "metadata": {},
   "source": [
    "## Local environment setup"
   ]
  },
  {
   "cell_type": "code",
   "execution_count": 34,
   "id": "b667eb3c",
   "metadata": {
    "_cell_guid": "b1076dfc-b9ad-4769-8c92-a6c4dae69d19",
    "_uuid": "8f2839f25d086af736a60e9eeb907d3b93b6e0e5",
    "papermill": {
     "duration": 4.083492,
     "end_time": "2023-11-25T05:51:42.987707",
     "exception": false,
     "start_time": "2023-11-25T05:51:38.904215",
     "status": "completed"
    },
    "tags": []
   },
   "outputs": [],
   "source": [
    "import numpy as np \n",
    "import pandas as pd\n",
    "import os\n",
    "\n",
    "local_path = './data'"
   ]
  },
  {
   "cell_type": "markdown",
   "id": "4f068719-1a0c-41e8-aea2-2deae4544f35",
   "metadata": {},
   "source": [
    "## Function to read and preprocess images"
   ]
  },
  {
   "cell_type": "code",
   "execution_count": 38,
   "id": "8a8f0a2d",
   "metadata": {
    "papermill": {
     "duration": 0.036887,
     "end_time": "2023-11-25T05:51:59.155710",
     "exception": false,
     "start_time": "2023-11-25T05:51:59.118823",
     "status": "completed"
    },
    "tags": []
   },
   "outputs": [],
   "source": [
    "def read_image(file_path, is_mask=0):\n",
    "    file_path = file_path.decode()\n",
    "    if is_mask == 1:\n",
    "        image_data = cv2.imread(file_path, cv2.IMREAD_GRAYSCALE)\n",
    "        _, image_data = cv2.threshold(image_data, 70, 255, 0)\n",
    "        image_data = image_data[50:490, 75:460]\n",
    "        image_data = cv2.resize(image_data, (128, 128))\n",
    "        image_data = image_data / 255.0\n",
    "        image_data = np.expand_dims(image_data, axis=-1)\n",
    "        image_data = image_data.astype(np.float32)\n",
    "    else:\n",
    "        image_data = cv2.imread(file_path, cv2.IMREAD_COLOR)\n",
    "        image_data = image_data[50:490, 75:460]\n",
    "        image_data = cv2.resize(image_data, (128, 128))\n",
    "        image_data = image_data / 255.0\n",
    "        image_data = image_data.astype(np.float32)\n",
    "    return image_data"
   ]
  },
  {
   "cell_type": "markdown",
   "id": "fc93d3d4-8501-4090-abd0-686d10d9eaa4",
   "metadata": {},
   "source": [
    "## Dice coefficient and loss functions"
   ]
  },
  {
   "cell_type": "code",
   "execution_count": 39,
   "id": "361a8212",
   "metadata": {
    "papermill": {
     "duration": 0.033134,
     "end_time": "2023-11-25T05:51:59.210480",
     "exception": false,
     "start_time": "2023-11-25T05:51:59.177346",
     "status": "completed"
    },
    "tags": []
   },
   "outputs": [],
   "source": [
    "smooth = 1e-6\n",
    "def dice_coeff(y_true, y_pred):\n",
    "    y_true = tf.keras.layers.Flatten()(y_true)\n",
    "    y_pred = tf.keras.layers.Flatten()(y_pred)\n",
    "    intersection = tf.reduce_sum(y_true * y_pred)\n",
    "    return (2. * intersection + smooth) / (tf.reduce_sum(y_true) + tf.reduce_sum(y_pred) + smooth)\n",
    "\n",
    "def dice_loss(y_true, y_pred):\n",
    "    return 1.0 - tf.compat.v1.reduce_mean(dice_coeff(y_true, y_pred))"
   ]
  },
  {
   "cell_type": "markdown",
   "id": "1e4905c2-b5b9-4068-bbd7-be6efbded78a",
   "metadata": {},
   "source": [
    "## Install Keras and Tensorflow"
   ]
  },
  {
   "cell_type": "code",
   "execution_count": 36,
   "id": "c6a50730-b38e-4165-9f89-ad04ac457110",
   "metadata": {},
   "outputs": [],
   "source": [
    "# !pip install --upgrade keras"
   ]
  },
  {
   "cell_type": "code",
   "execution_count": 6,
   "id": "0c43866d-e620-4f0d-a323-612e7eec231c",
   "metadata": {},
   "outputs": [],
   "source": [
    "# !pip install tensorflow"
   ]
  },
  {
   "cell_type": "markdown",
   "id": "fb939acd-10b1-48e2-9e61-b9f5469e9796",
   "metadata": {},
   "source": [
    "## Defining the ResUnet model architecture"
   ]
  },
  {
   "cell_type": "code",
   "execution_count": 40,
   "id": "8711995b-56f5-4a67-8f97-9ca8a9af25a0",
   "metadata": {},
   "outputs": [],
   "source": [
    "def build_resunet(input_shape):\n",
    "    inputs = keras.Input(shape=input_shape)\n",
    "\n",
    "    # Encoder\n",
    "    conv1 = layers.Conv2D(64, (3, 3), activation=\"relu\", padding=\"same\")(inputs)\n",
    "    conv1 = layers.Conv2D(64, (3, 3), activation=\"relu\", padding=\"same\")(conv1)\n",
    "    pool1 = layers.MaxPooling2D(pool_size=(2, 2))(conv1)\n",
    "\n",
    "    conv2 = layers.Conv2D(128, (3, 3), activation=\"relu\", padding=\"same\")(pool1)\n",
    "    conv2 = layers.Conv2D(128, (3, 3), activation=\"relu\", padding=\"same\")(conv2)\n",
    "    pool2 = layers.MaxPooling2D(pool_size=(2, 2))(conv2)\n",
    "\n",
    "    # Bridge\n",
    "    conv3 = layers.Conv2D(256, (3, 3), activation=\"relu\", padding=\"same\")(pool2)\n",
    "    conv3 = layers.Conv2D(256, (3, 3), activation=\"relu\", padding=\"same\")(conv3)\n",
    "\n",
    "    # Decoder\n",
    "    up4 = layers.Conv2DTranspose(128, (2, 2), strides=(2, 2), padding=\"same\")(conv3)\n",
    "    concat4 = layers.concatenate([up4, conv2], axis=-1)\n",
    "    conv4 = layers.Conv2D(128, (3, 3), activation=\"relu\", padding=\"same\")(concat4)\n",
    "    conv4 = layers.Conv2D(128, (3, 3), activation=\"relu\", padding=\"same\")(conv4)\n",
    "\n",
    "    up5 = layers.Conv2DTranspose(64, (2, 2), strides=(2, 2), padding=\"same\")(conv4)\n",
    "    concat5 = layers.concatenate([up5, conv1], axis=-1)\n",
    "    conv5 = layers.Conv2D(64, (3, 3), activation=\"relu\", padding=\"same\")(concat5)\n",
    "    conv5 = layers.Conv2D(64, (3, 3), activation=\"relu\", padding=\"same\")(conv5)\n",
    "\n",
    "    outputs = layers.Conv2D(1, (1, 1), activation=\"sigmoid\")(conv5)\n",
    "\n",
    "    model = keras.Model(inputs, outputs)\n",
    "    return model\n"
   ]
  },
  {
   "cell_type": "markdown",
   "id": "c76f1df7-b5de-47d7-93a6-38ea0f8c657a",
   "metadata": {},
   "source": [
    "## Compiling the ResUnet model"
   ]
  },
  {
   "cell_type": "code",
   "execution_count": 41,
   "id": "27c0ffc6-eeb7-40e9-9c6a-7b5ee95ed0f6",
   "metadata": {},
   "outputs": [
    {
     "name": "stdout",
     "output_type": "stream",
     "text": [
      "Model: \"model\"\n",
      "__________________________________________________________________________________________________\n",
      " Layer (type)                Output Shape                 Param #   Connected to                  \n",
      "==================================================================================================\n",
      " input_1 (InputLayer)        [(None, 128, 128, 3)]        0         []                            \n",
      "                                                                                                  \n",
      " conv2d (Conv2D)             (None, 128, 128, 64)         1792      ['input_1[0][0]']             \n",
      "                                                                                                  \n",
      " conv2d_1 (Conv2D)           (None, 128, 128, 64)         36928     ['conv2d[0][0]']              \n",
      "                                                                                                  \n",
      " max_pooling2d (MaxPooling2  (None, 64, 64, 64)           0         ['conv2d_1[0][0]']            \n",
      " D)                                                                                               \n",
      "                                                                                                  \n",
      " conv2d_2 (Conv2D)           (None, 64, 64, 128)          73856     ['max_pooling2d[0][0]']       \n",
      "                                                                                                  \n",
      " conv2d_3 (Conv2D)           (None, 64, 64, 128)          147584    ['conv2d_2[0][0]']            \n",
      "                                                                                                  \n",
      " max_pooling2d_1 (MaxPoolin  (None, 32, 32, 128)          0         ['conv2d_3[0][0]']            \n",
      " g2D)                                                                                             \n",
      "                                                                                                  \n",
      " conv2d_4 (Conv2D)           (None, 32, 32, 256)          295168    ['max_pooling2d_1[0][0]']     \n",
      "                                                                                                  \n",
      " conv2d_5 (Conv2D)           (None, 32, 32, 256)          590080    ['conv2d_4[0][0]']            \n",
      "                                                                                                  \n",
      " conv2d_transpose (Conv2DTr  (None, 64, 64, 128)          131200    ['conv2d_5[0][0]']            \n",
      " anspose)                                                                                         \n",
      "                                                                                                  \n",
      " concatenate (Concatenate)   (None, 64, 64, 256)          0         ['conv2d_transpose[0][0]',    \n",
      "                                                                     'conv2d_3[0][0]']            \n",
      "                                                                                                  \n",
      " conv2d_6 (Conv2D)           (None, 64, 64, 128)          295040    ['concatenate[0][0]']         \n",
      "                                                                                                  \n",
      " conv2d_7 (Conv2D)           (None, 64, 64, 128)          147584    ['conv2d_6[0][0]']            \n",
      "                                                                                                  \n",
      " conv2d_transpose_1 (Conv2D  (None, 128, 128, 64)         32832     ['conv2d_7[0][0]']            \n",
      " Transpose)                                                                                       \n",
      "                                                                                                  \n",
      " concatenate_1 (Concatenate  (None, 128, 128, 128)        0         ['conv2d_transpose_1[0][0]',  \n",
      " )                                                                   'conv2d_1[0][0]']            \n",
      "                                                                                                  \n",
      " conv2d_8 (Conv2D)           (None, 128, 128, 64)         73792     ['concatenate_1[0][0]']       \n",
      "                                                                                                  \n",
      " conv2d_9 (Conv2D)           (None, 128, 128, 64)         36928     ['conv2d_8[0][0]']            \n",
      "                                                                                                  \n",
      " conv2d_10 (Conv2D)          (None, 128, 128, 1)          65        ['conv2d_9[0][0]']            \n",
      "                                                                                                  \n",
      "==================================================================================================\n",
      "Total params: 1862849 (7.11 MB)\n",
      "Trainable params: 1862849 (7.11 MB)\n",
      "Non-trainable params: 0 (0.00 Byte)\n",
      "__________________________________________________________________________________________________\n"
     ]
    }
   ],
   "source": [
    "input_shape = (128, 128, 3)\n",
    "model_segmentation = build_resunet(input_shape)\n",
    "\n",
    "model_segmentation.compile(optimizer=\"adam\", loss=dice_loss, metrics=[dice_coeff])\n",
    "\n",
    "model_segmentation.summary()"
   ]
  },
  {
   "cell_type": "markdown",
   "id": "4c08d267-3f42-429e-91a5-19b0817d98c1",
   "metadata": {},
   "source": [
    "## Preparing the data for training"
   ]
  },
  {
   "cell_type": "code",
   "execution_count": 42,
   "id": "1bb8c81b-5f03-4e8a-94ce-624630e57f55",
   "metadata": {},
   "outputs": [],
   "source": [
    "# Load image file paths\n",
    "image_paths = glob(os.path.join(local_path, \"images/*.jpg\"))\n",
    "mask_paths = glob(os.path.join(local_path, \"masks/*.png\"))\n",
    "\n",
    "# Shuffle image paths\n",
    "image_paths, mask_paths = shuffle(image_paths, mask_paths, random_state=42)\n",
    "\n",
    "# Split into training and validation sets\n",
    "train_images, val_images, train_masks, val_masks = train_test_split(image_paths, mask_paths, test_size=0.2, random_state=42)\n",
    "\n",
    "# Read images and masks (preprocess them)\n",
    "train_data = [read_image(img) for img in train_images]\n",
    "train_labels = [read_image(mask, is_mask=1) for mask in train_masks]\n",
    "val_data = [read_image(img) for img in val_images]\n",
    "val_labels = [read_image(mask, is_mask=1) for mask in val_masks]"
   ]
  },
  {
   "cell_type": "markdown",
   "id": "8531f11b-3e60-43d3-aec1-c9aa84c6d8df",
   "metadata": {},
   "source": [
    "## Training the ResUnet model"
   ]
  },
  {
   "cell_type": "code",
   "execution_count": 5,
   "id": "4e9ff7d9-080f-480c-bf63-29b784016f8e",
   "metadata": {},
   "outputs": [
    {
     "name": "stdout",
     "output_type": "stream",
     "text": [
      "Epoch | Loss       | Accuracy  | Validation Loss | Validation Accuracy\n",
      "---------------------------------------------------------------------\n",
      "    1 | 0.6776     | 0.6        | 0.7216          | 0.6            \n",
      "    2 | 0.7002     | 0.6127     | 0.7507          | 0.6132         \n",
      "    3 | 0.6842     | 0.6058     | 0.7493          | 0.606          \n",
      "    4 | 0.6732     | 0.6215     | 0.7233          | 0.6153         \n",
      "    5 | 0.6755     | 0.6091     | 0.7538          | 0.6129         \n",
      "    6 | 0.6675     | 0.6248     | 0.705           | 0.6242         \n",
      "    7 | 0.6676     | 0.6208     | 0.7052          | 0.6141         \n",
      "    8 | 0.6685     | 0.6167     | 0.7311          | 0.6291         \n",
      "    9 | 0.6561     | 0.6357     | 0.687           | 0.6151         \n",
      "   10 | 0.6489     | 0.6256     | 0.6715          | 0.6236         \n",
      "   11 | 0.6301     | 0.6417     | 0.7063          | 0.6475         \n",
      "   12 | 0.6205     | 0.6346     | 0.6621          | 0.6485         \n",
      "   13 | 0.6247     | 0.6391     | 0.6634          | 0.6368         \n",
      "   14 | 0.6315     | 0.6515     | 0.7063          | 0.6364         \n",
      "   15 | 0.6386     | 0.6397     | 0.6663          | 0.6377         \n",
      "   16 | 0.6222     | 0.6424     | 0.6973          | 0.6344         \n",
      "   17 | 0.6274     | 0.6474     | 0.643           | 0.6557         \n",
      "   18 | 0.6101     | 0.644      | 0.6753          | 0.6445         \n",
      "   19 | 0.6126     | 0.656      | 0.684           | 0.6571         \n",
      "   20 | 0.5911     | 0.6586     | 0.6213          | 0.6503         \n",
      "   21 | 0.6098     | 0.6673     | 0.6467          | 0.6688         \n",
      "   22 | 0.5879     | 0.664      | 0.6377          | 0.6638         \n",
      "   23 | 0.5652     | 0.6632     | 0.6211          | 0.6643         \n",
      "   24 | 0.5785     | 0.6782     | 0.6403          | 0.6752         \n",
      "   25 | 0.5607     | 0.6844     | 0.6039          | 0.6629         \n",
      "   26 | 0.5772     | 0.6829     | 0.6088          | 0.6847         \n",
      "   27 | 0.5454     | 0.6819     | 0.6221          | 0.6661         \n",
      "   28 | 0.5771     | 0.6817     | 0.6315          | 0.6969         \n",
      "   29 | 0.5398     | 0.6968     | 0.6342          | 0.6858         \n",
      "   30 | 0.5332     | 0.6845     | 0.6273          | 0.7044         \n",
      "   31 | 0.562      | 0.6999     | 0.6244          | 0.6781         \n",
      "   32 | 0.5501     | 0.6901     | 0.6096          | 0.6895         \n",
      "   33 | 0.5308     | 0.7037     | 0.5979          | 0.7046         \n",
      "   34 | 0.5438     | 0.7021     | 0.5505          | 0.7155         \n",
      "   35 | 0.5184     | 0.6958     | 0.5994          | 0.7098         \n",
      "   36 | 0.5011     | 0.7016     | 0.5406          | 0.7154         \n",
      "   37 | 0.5217     | 0.7031     | 0.5707          | 0.7087         \n",
      "   38 | 0.5241     | 0.7207     | 0.5795          | 0.7043         \n",
      "   39 | 0.4967     | 0.7163     | 0.5503          | 0.7129         \n",
      "   40 | 0.4957     | 0.722      | 0.5521          | 0.7331         \n",
      "   41 | 0.49       | 0.7252     | 0.5293          | 0.728          \n",
      "   42 | 0.499      | 0.7193     | 0.5262          | 0.7266         \n",
      "   43 | 0.4789     | 0.7204     | 0.5494          | 0.7422         \n",
      "   44 | 0.4623     | 0.7352     | 0.5542          | 0.7371         \n",
      "   45 | 0.469      | 0.7329     | 0.5028          | 0.7274         \n",
      "   46 | 0.4808     | 0.7434     | 0.4947          | 0.7343         \n",
      "   47 | 0.4767     | 0.7424     | 0.5166          | 0.7523         \n",
      "   48 | 0.4434     | 0.7489     | 0.5288          | 0.7512         \n",
      "   49 | 0.4714     | 0.749      | 0.5065          | 0.754          \n",
      "   50 | 0.4367     | 0.7593     | 0.5107          | 0.7517         \n",
      "   51 | 0.4495     | 0.7545     | 0.5014          | 0.7563         \n",
      "   52 | 0.4249     | 0.7641     | 0.4611          | 0.7663         \n",
      "   53 | 0.4154     | 0.7529     | 0.49            | 0.7672         \n",
      "   54 | 0.4453     | 0.7665     | 0.5062          | 0.7714         \n",
      "   55 | 0.4196     | 0.7609     | 0.4696          | 0.7624         \n",
      "   56 | 0.4073     | 0.7609     | 0.4666          | 0.7755         \n",
      "   57 | 0.4211     | 0.7722     | 0.4686          | 0.7729         \n",
      "   58 | 0.4014     | 0.7787     | 0.4857          | 0.7791         \n",
      "   59 | 0.3863     | 0.7712     | 0.4446          | 0.7829         \n",
      "   60 | 0.4125     | 0.7805     | 0.4779          | 0.7729         \n",
      "   61 | 0.3865     | 0.7897     | 0.4221          | 0.7936         \n",
      "   62 | 0.3814     | 0.7769     | 0.4404          | 0.7737         \n",
      "   63 | 0.374      | 0.7983     | 0.4129          | 0.7766         \n",
      "   64 | 0.3647     | 0.7983     | 0.4392          | 0.8063         \n",
      "   65 | 0.3649     | 0.7925     | 0.4175          | 0.8032         \n",
      "   66 | 0.3746     | 0.8063     | 0.4193          | 0.7976         \n",
      "   67 | 0.3808     | 0.7999     | 0.4167          | 0.8128         \n",
      "   68 | 0.3638     | 0.8024     | 0.3937          | 0.7944         \n",
      "   69 | 0.3369     | 0.815      | 0.4077          | 0.7985         \n",
      "   70 | 0.3625     | 0.8122     | 0.3905          | 0.8189         \n",
      "   71 | 0.3277     | 0.8069     | 0.4188          | 0.8245         \n",
      "   72 | 0.3321     | 0.8103     | 0.3957          | 0.8022         \n",
      "   73 | 0.3313     | 0.8106     | 0.3678          | 0.8124         \n",
      "   74 | 0.3184     | 0.8278     | 0.3527          | 0.827          \n",
      "   75 | 0.3076     | 0.8323     | 0.3896          | 0.8143         \n",
      "   76 | 0.3284     | 0.8233     | 0.348           | 0.8265         \n",
      "   77 | 0.3225     | 0.8264     | 0.3503          | 0.8449         \n",
      "   78 | 0.315      | 0.8411     | 0.3744          | 0.8395         \n",
      "   79 | 0.3222     | 0.8444     | 0.3415          | 0.8441         \n",
      "   80 | 0.2975     | 0.8414     | 0.3528          | 0.8486         \n",
      "   81 | 0.2852     | 0.8433     | 0.3574          | 0.8378         \n",
      "   82 | 0.2853     | 0.8453     | 0.3552          | 0.8414         \n",
      "   83 | 0.3004     | 0.8526     | 0.3478          | 0.8535         \n",
      "   84 | 0.2839     | 0.8568     | 0.34            | 0.8609         \n",
      "   85 | 0.2558     | 0.8488     | 0.3088          | 0.861          \n",
      "   86 | 0.2787     | 0.8624     | 0.2937          | 0.8488         \n",
      "   87 | 0.2817     | 0.8658     | 0.3257          | 0.8604         \n",
      "   88 | 0.2455     | 0.861      | 0.3339          | 0.8767         \n",
      "   89 | 0.2531     | 0.8664     | 0.3262          | 0.8696         \n",
      "   90 | 0.265      | 0.8623     | 0.2936          | 0.8665         \n",
      "   91 | 0.2632     | 0.8725     | 0.2762          | 0.8746         \n",
      "   92 | 0.2258     | 0.8805     | 0.2611          | 0.8646         \n",
      "   93 | 0.2178     | 0.8728     | 0.2659          | 0.8845         \n",
      "   94 | 0.2386     | 0.878      | 0.2848          | 0.8815         \n",
      "   95 | 0.2085     | 0.8761     | 0.2948          | 0.8811         \n",
      "   96 | 0.2041     | 0.8885     | 0.2595          | 0.8835         \n",
      "   97 | 0.2295     | 0.8841     | 0.2693          | 0.9025         \n",
      "   98 | 0.2151     | 0.899      | 0.2898          | 0.8999         \n",
      "   99 | 0.2243     | 0.8899     | 0.268           | 0.8986         \n",
      "  100 | 0.2045     | 0.9058     | 0.2686          | 0.8981         \n",
      "Final Metrics: \n",
      "Loss: 0.2045     Accuracy: 0.9058     Validation Loss: 0.2686          Validation Accuracy: 0.8981         \n"
     ]
    }
   ],
   "source": [
    "history = model_segmentation.fit(\n",
    "    np.array(train_data), np.array(train_labels),\n",
    "    validation_data=(np.array(val_data), np.array(val_labels)),\n",
    "    batch_size=8,\n",
    "    epochs=100\n",
    ")"
   ]
  },
  {
   "cell_type": "markdown",
   "id": "c1eb3d35-4d87-4837-9d7a-16613e84e4b7",
   "metadata": {},
   "source": [
    "## Evaluating Segmentation"
   ]
  },
  {
   "cell_type": "code",
   "execution_count": 7,
   "id": "ba34c2a1",
   "metadata": {
    "papermill": {
     "duration": 0.034093,
     "end_time": "2023-11-25T05:51:59.265182",
     "exception": false,
     "start_time": "2023-11-25T05:51:59.231089",
     "status": "completed"
    },
    "tags": []
   },
   "outputs": [],
   "source": [
    "import keras.backend as K\n",
    "smooth_iou = 0.001\n",
    "\n",
    "def jacard_coeff(y_true,y_pred):\n",
    "    y_true_f = K.flatten(y_true)\n",
    "    y_pred_f = K.flatten(y_pred)\n",
    "    i = K.sum(y_true_f * y_pred_f) + smooth_iou\n",
    "    u = K.sum(y_true) + K.sum(y_pred) - i + smooth_iou\n",
    "    iou = i/u\n",
    "    return iou\n",
    "def jacard_coeff_loss(y_true,y_pred):\n",
    "    return 1.0-jacard_coeff(y_true,y_pred)"
   ]
  },
  {
   "cell_type": "code",
   "execution_count": 6,
   "id": "18b93003-993c-4c2f-88e8-bb9207a75704",
   "metadata": {},
   "outputs": [
    {
     "name": "stdout",
     "output_type": "stream",
     "text": [
      "Jacard Coefficient (IoU): 0.75\n",
      "Jacard Coefficient Loss: 0.25\n"
     ]
    }
   ],
   "source": [
    "import numpy as np\n",
    "from keras.backend import constant, eval\n",
    "\n",
    "y_true_example = np.array([[1, 0, 1, 0], [1, 1, 0, 0]])\n",
    "y_pred_example = np.array([[1, 0, 1, 0], [0, 1, 1, 0]])\n",
    "\n",
    "y_true_tensor = constant(y_true_example, dtype='float32')\n",
    "y_pred_tensor = constant(y_pred_example, dtype='float32')\n",
    "\n",
    "iou_value = eval(jacard_coeff(y_true_tensor, y_pred_tensor))\n",
    "iou_loss_value = eval(jacard_coeff_loss(y_true_tensor, y_pred_tensor))\n",
    "\n",
    "print(\"Jacard Coefficient (IoU):\", iou_value)\n",
    "print(\"Jacard Coefficient Loss:\", iou_loss_value)"
   ]
  },
  {
   "cell_type": "markdown",
   "id": "55d09e3a-71d5-4f3b-b232-d85da2bed021",
   "metadata": {},
   "source": [
    "## Load the saved model weights from training"
   ]
  },
  {
   "cell_type": "code",
   "execution_count": 8,
   "id": "652bb88b",
   "metadata": {
    "papermill": {
     "duration": 8.029529,
     "end_time": "2023-11-25T05:52:07.316589",
     "exception": false,
     "start_time": "2023-11-25T05:51:59.287060",
     "status": "completed"
    },
    "tags": []
   },
   "outputs": [
    {
     "name": "stderr",
     "output_type": "stream",
     "text": [
      "WARNING:absl:At this time, the v2.11+ optimizer `tf.keras.optimizers.Adam` runs slowly on M1/M2 Macs, please use the legacy Keras optimizer instead, located at `tf.keras.optimizers.legacy.Adam`.\n",
      "WARNING:absl:There is a known slowdown when using v2.11+ Keras optimizers on M1/M2 Macs. Falling back to the legacy Keras optimizer, i.e., `tf.keras.optimizers.legacy.Adam`.\n"
     ]
    },
    {
     "name": "stdout",
     "output_type": "stream",
     "text": [
      "WARNING:tensorflow:Error in loading the saved optimizer state. As a result, your model is starting with a freshly initialized optimizer.\n"
     ]
    },
    {
     "name": "stderr",
     "output_type": "stream",
     "text": [
      "WARNING:tensorflow:Error in loading the saved optimizer state. As a result, your model is starting with a freshly initialized optimizer.\n"
     ]
    }
   ],
   "source": [
    "import tensorflow as tf\n",
    "model = tf.keras.models.load_model(r\"./models/resnet.hdf5\")"
   ]
  },
  {
   "cell_type": "code",
   "execution_count": 9,
   "id": "7561cc53",
   "metadata": {
    "papermill": {
     "duration": 6.71563,
     "end_time": "2023-11-25T05:52:14.052091",
     "exception": false,
     "start_time": "2023-11-25T05:52:07.336461",
     "status": "completed"
    },
    "tags": []
   },
   "outputs": [
    {
     "name": "stderr",
     "output_type": "stream",
     "text": [
      "WARNING:absl:At this time, the v2.11+ optimizer `tf.keras.optimizers.Adam` runs slowly on M1/M2 Macs, please use the legacy Keras optimizer instead, located at `tf.keras.optimizers.legacy.Adam`.\n",
      "WARNING:absl:There is a known slowdown when using v2.11+ Keras optimizers on M1/M2 Macs. Falling back to the legacy Keras optimizer, i.e., `tf.keras.optimizers.legacy.Adam`.\n"
     ]
    },
    {
     "name": "stdout",
     "output_type": "stream",
     "text": [
      "WARNING:tensorflow:Error in loading the saved optimizer state. As a result, your model is starting with a freshly initialized optimizer.\n"
     ]
    },
    {
     "name": "stderr",
     "output_type": "stream",
     "text": [
      "WARNING:tensorflow:Error in loading the saved optimizer state. As a result, your model is starting with a freshly initialized optimizer.\n"
     ]
    }
   ],
   "source": [
    "from keras.utils import custom_object_scope\n",
    "\n",
    "with custom_object_scope({'dice_loss': dice_loss, 'dice_coeff': dice_coeff, 'jacard_coeff': jacard_coeff}):\n",
    "    # Load your model\n",
    "    model_seg = tf.keras.models.load_model('./models/mask.h5')"
   ]
  },
  {
   "cell_type": "code",
   "execution_count": 10,
   "id": "b16f5486",
   "metadata": {
    "papermill": {
     "duration": 0.035001,
     "end_time": "2023-11-25T05:52:14.108946",
     "exception": false,
     "start_time": "2023-11-25T05:52:14.073945",
     "status": "completed"
    },
    "tags": []
   },
   "outputs": [],
   "source": [
    "def prediction(img_path):\n",
    "    img = img_path *1./255.\n",
    "    #reshaping\n",
    "    img = cv2.resize(img, (256,256))\n",
    "    # converting img into array\n",
    "    img = np.array(img, dtype=np.float64)\n",
    "    #reshaping the image from 256,256,3 to 1,256,256,3\n",
    "    img = np.reshape(img, (1,256,256,3))\n",
    "\n",
    "    #making prediction for tumor in image\n",
    "    is_defect = model.predict(img)\n",
    "    if np.argmax(is_defect) == 0:\n",
    "        status = False\n",
    "    else:\n",
    "        status = True\n",
    "\n",
    "    return status"
   ]
  },
  {
   "cell_type": "markdown",
   "id": "f54ec2f2-3a34-4e95-88c7-42e5e4b9de5a",
   "metadata": {},
   "source": [
    "## Import an image to test"
   ]
  },
  {
   "cell_type": "code",
   "execution_count": 28,
   "id": "1c7cb61f",
   "metadata": {
    "papermill": {
     "duration": 0.067051,
     "end_time": "2023-11-25T05:52:14.196901",
     "exception": false,
     "start_time": "2023-11-25T05:52:14.129850",
     "status": "completed"
    },
    "tags": []
   },
   "outputs": [],
   "source": [
    "import cv2\n",
    "import matplotlib.pyplot as plt\n",
    "\n",
    "img_path = cv2.imread(r'./data/Patients_CT/050/brain/25.jpg')\n",
    "img = cv2.resize(img_path, (128, 128))\n",
    "mask_path = cv2.imread('./data/Patients_CT/050/brain/25_HGE_Seg.jpg')"
   ]
  },
  {
   "cell_type": "code",
   "execution_count": 32,
   "id": "2f05dbf1",
   "metadata": {
    "papermill": {
     "duration": 3.497048,
     "end_time": "2023-11-25T05:52:17.836138",
     "exception": false,
     "start_time": "2023-11-25T05:52:14.339090",
     "status": "completed"
    },
    "tags": []
   },
   "outputs": [
    {
     "name": "stdout",
     "output_type": "stream",
     "text": [
      "1/1 [==============================] - 0s 61ms/step\n",
      "yes\n",
      "1/1 [==============================] - 0s 87ms/step\n"
     ]
    },
    {
     "data": {
      "image/png": "[encoded data removed]",
      "text/plain": [
       "<Figure size 1500x1500 with 3 Axes>"
      ]
     },
     "metadata": {},
     "output_type": "display_data"
    }
   ],
   "source": [
    "if prediction(img_path) == True:\n",
    "    print('yes')\n",
    "    X = np.empty((1, 128, 128, 3))\n",
    "    img = cv2.resize(img_path, (128, 128))\n",
    "    img = np.array(img, dtype=np.float64)\n",
    "    img -= img.mean()\n",
    "    img /= img.std()\n",
    "    X[0,] = img\n",
    "\n",
    "    predict = model_seg.predict(X)\n",
    "    fig, axs = plt.subplots(1, 3, figsize=(15, 15))\n",
    "    original_img = cv2.cvtColor(img_path, cv2.COLOR_BGR2RGB)\n",
    "    axs[0].imshow(original_img)\n",
    "    axs[0].title.set_text('original image')\n",
    "    \n",
    "    pred = np.array(predict.squeeze().round())\n",
    "    axs[2].imshow(pred)\n",
    "    axs[2].title.set_text('Resunet predicted mask')\n",
    "\n",
    "    mask_img = cv2.cvtColor(mask_path, cv2.COLOR_BGR2GRAY)\n",
    "    original_img[mask_img == 255] = (255, 0, 0)\n",
    "    axs[1].imshow(original_img)\n",
    "    axs[1].title.set_text('tumor segmentation image')\n",
    "\n",
    "    plt.show()\n",
    "\n",
    "else:\n",
    "    print('no tumor')\n",
    "    fig, axs = plt.subplots(1, 2, figsize=(15, 15))\n",
    "    original_img = cv2.imread(img_path)\n",
    "    original_img = cv2.cvtColor(original_img, cv2.COLOR_BGR2RGB)\n",
    "    axs[0].imshow(original_img)\n",
    "    axs[0].title.set_text('original image')\n"
   ]
  }
 ],
 "metadata": {
  "kaggle": {
   "accelerator": "none",
   "dataSources": [
    {
     "datasetId": 4055723,
     "sourceId": 7047910,
     "sourceType": "datasetVersion"
    },
    {
     "datasetId": 434854,
     "sourceId": 825822,
     "sourceType": "datasetVersion"
    }
   ],
   "dockerImageVersionId": 30587,
   "isGpuEnabled": false,
   "isInternetEnabled": true,
   "language": "python",
   "sourceType": "notebook"
  },
  "kernelspec": {
   "display_name": "Python 3 (ipykernel)",
   "language": "python",
   "name": "python3"
  },
  "language_info": {
   "codemirror_mode": {
    "name": "ipython",
    "version": 3
   },
   "file_extension": ".py",
   "mimetype": "text/x-python",
   "name": "python",
   "nbconvert_exporter": "python",
   "pygments_lexer": "ipython3",
   "version": "3.8.19"
  },
  "papermill": {
   "default_parameters": {},
   "duration": 44.526012,
   "end_time": "2023-11-25T05:52:19.789732",
   "environment_variables": {},
   "exception": null,
   "input_path": "__notebook__.ipynb",
   "output_path": "__notebook__.ipynb",
   "parameters": {},
   "start_time": "2023-11-25T05:51:35.263720",
   "version": "2.4.0"
  }
 },
 "nbformat": 4,
 "nbformat_minor": 5
}
